{
 "cells": [
  {
   "cell_type": "markdown",
   "metadata": {},
   "source": [
    "## MNIST "
   ]
  },
  {
   "cell_type": "markdown",
   "metadata": {},
   "source": [
    "### Introduction"
   ]
  },
  {
   "cell_type": "markdown",
   "metadata": {},
   "source": [
    "In this project, I am going to implement a Deep Neural Network using TensorFlow 2.0 in a dataset called MNIST, which is about handwritten digit recognition. This is a classification problem.\n",
    "\n",
    "The dataset I am going to use is the one provided by TensorFlow and consist of 70,000 images with 28x28 pixels of handwritten numbers. That means, each image corresponds to a number between 0 and 9.\n",
    "\n",
    "My goal is to write an algorithm that identifies the handwritten number of the given images."
   ]
  },
  {
   "cell_type": "markdown",
   "metadata": {},
   "source": [
    "### Packages "
   ]
  },
  {
   "cell_type": "code",
   "execution_count": 1,
   "metadata": {},
   "outputs": [],
   "source": [
    "# import the relevant packages\n",
    "import numpy as np\n",
    "import tensorflow as tf\n",
    "\n",
    "# the dataset is download the first time to my local \n",
    "# machine and the next time the code is run, the computer\n",
    "# will just load the data from the stored folder\n",
    "import tensorflow_datasets as tfds"
   ]
  },
  {
   "cell_type": "markdown",
   "metadata": {},
   "source": [
    "### Data"
   ]
  },
  {
   "cell_type": "code",
   "execution_count": 2,
   "metadata": {},
   "outputs": [],
   "source": [
    "# load the MNIST dataset for tensorflow dataset\n",
    "# with_info=True to know version, size, etc. of the data \n",
    "# as_supervised=True return 2-tuple, input and target, structure\n",
    "mnist_dataset, mnist_info = tfds.load(name='mnist', with_info=True, as_supervised=True)\n",
    "# we define the train and test set which are from default \n",
    "mnist_train, mnist_test = mnist_dataset['train'], mnist_dataset['test']"
   ]
  },
  {
   "cell_type": "code",
   "execution_count": 3,
   "metadata": {},
   "outputs": [],
   "source": [
    "# there is no validation set, so we take a 10% from train set\n",
    "num_validation_samples = 0.1*mnist_info.splits['train'].num_examples\n",
    "# just in case the number of samples is not an integer\n",
    "# we transform it to an integer\n",
    "num_validation_samples = tf.cast(num_validation_samples, tf.int64)"
   ]
  },
  {
   "cell_type": "code",
   "execution_count": 4,
   "metadata": {},
   "outputs": [],
   "source": [
    "# also we create a variable with the number of test\n",
    "# samples and we tranform from float to an integer\n",
    "num_test_samples = mnist_info.splits['test'].num_examples\n",
    "num_test_samples = tf.cast(num_test_samples, tf.int64)"
   ]
  },
  {
   "cell_type": "markdown",
   "metadata": {},
   "source": [
    "I rewrite the dataset to have values between 0 and 1, instead of the grey scale that goes from 0 untill 255. This is done using a function and applying it to all the pixels in each image."
   ]
  },
  {
   "cell_type": "code",
   "execution_count": 5,
   "metadata": {},
   "outputs": [],
   "source": [
    "# the data is a grey scale from 0 to 255\n",
    "# I define a function called scale to \n",
    "# translate it into a numbers from 0 to 1\n",
    "def scale(image, label):\n",
    "    # the value has to be a float to scale it\n",
    "    image = tf.cast(image, tf.float32)\n",
    "    image = image/255.\n",
    "    \n",
    "    return image, label\n",
    "\n",
    "# application of the function for dataset\n",
    "# first from the train that will be split \n",
    "# into train and validation\n",
    "scaled_train_and_validation_data = mnist_train.map(scale)\n",
    "# scale function applied to test dataset\n",
    "test_data = mnist_test.map(scale)"
   ]
  },
  {
   "cell_type": "code",
   "execution_count": null,
   "metadata": {},
   "outputs": [],
   "source": []
  }
 ],
 "metadata": {
  "kernelspec": {
   "display_name": "Python 3",
   "language": "python",
   "name": "python3"
  },
  "language_info": {
   "codemirror_mode": {
    "name": "ipython",
    "version": 3
   },
   "file_extension": ".py",
   "mimetype": "text/x-python",
   "name": "python",
   "nbconvert_exporter": "python",
   "pygments_lexer": "ipython3",
   "version": "3.7.7"
  }
 },
 "nbformat": 4,
 "nbformat_minor": 4
}
